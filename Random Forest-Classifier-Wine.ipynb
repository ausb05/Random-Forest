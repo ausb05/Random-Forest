{
 "cells": [
  {
   "cell_type": "code",
   "execution_count": 1,
   "metadata": {},
   "outputs": [],
   "source": [
    "import pandas as pd\n",
    "import numpy as np\n",
    "import matplotlib.pyplot as plt\n",
    "from sklearn import tree\n",
    "import graphviz \n",
    "from sklearn.ensemble import RandomForestClassifier\n",
    "from sklearn.model_selection import train_test_split"
   ]
  },
  {
   "cell_type": "code",
   "execution_count": 2,
   "metadata": {},
   "outputs": [],
   "source": [
    "wine = pd.read_csv(\"winequality-red.csv\",sep=\";\")\n",
    "#whitewine = pd.read_csv(\"winequality-white.csv\")"
   ]
  },
  {
   "cell_type": "code",
   "execution_count": 3,
   "metadata": {},
   "outputs": [
    {
     "data": {
      "text/html": [
       "<div>\n",
       "<style scoped>\n",
       "    .dataframe tbody tr th:only-of-type {\n",
       "        vertical-align: middle;\n",
       "    }\n",
       "\n",
       "    .dataframe tbody tr th {\n",
       "        vertical-align: top;\n",
       "    }\n",
       "\n",
       "    .dataframe thead th {\n",
       "        text-align: right;\n",
       "    }\n",
       "</style>\n",
       "<table border=\"1\" class=\"dataframe\">\n",
       "  <thead>\n",
       "    <tr style=\"text-align: right;\">\n",
       "      <th></th>\n",
       "      <th>fixed acidity</th>\n",
       "      <th>volatile acidity</th>\n",
       "      <th>citric acid</th>\n",
       "      <th>residual sugar</th>\n",
       "      <th>chlorides</th>\n",
       "      <th>free sulfur dioxide</th>\n",
       "      <th>total sulfur dioxide</th>\n",
       "      <th>density</th>\n",
       "      <th>pH</th>\n",
       "      <th>sulphates</th>\n",
       "      <th>alcohol</th>\n",
       "      <th>quality</th>\n",
       "    </tr>\n",
       "  </thead>\n",
       "  <tbody>\n",
       "    <tr>\n",
       "      <th>0</th>\n",
       "      <td>7.4</td>\n",
       "      <td>0.70</td>\n",
       "      <td>0.00</td>\n",
       "      <td>1.9</td>\n",
       "      <td>0.076</td>\n",
       "      <td>11.0</td>\n",
       "      <td>34.0</td>\n",
       "      <td>0.9978</td>\n",
       "      <td>3.51</td>\n",
       "      <td>0.56</td>\n",
       "      <td>9.4</td>\n",
       "      <td>5</td>\n",
       "    </tr>\n",
       "    <tr>\n",
       "      <th>1</th>\n",
       "      <td>7.8</td>\n",
       "      <td>0.88</td>\n",
       "      <td>0.00</td>\n",
       "      <td>2.6</td>\n",
       "      <td>0.098</td>\n",
       "      <td>25.0</td>\n",
       "      <td>67.0</td>\n",
       "      <td>0.9968</td>\n",
       "      <td>3.20</td>\n",
       "      <td>0.68</td>\n",
       "      <td>9.8</td>\n",
       "      <td>5</td>\n",
       "    </tr>\n",
       "    <tr>\n",
       "      <th>2</th>\n",
       "      <td>7.8</td>\n",
       "      <td>0.76</td>\n",
       "      <td>0.04</td>\n",
       "      <td>2.3</td>\n",
       "      <td>0.092</td>\n",
       "      <td>15.0</td>\n",
       "      <td>54.0</td>\n",
       "      <td>0.9970</td>\n",
       "      <td>3.26</td>\n",
       "      <td>0.65</td>\n",
       "      <td>9.8</td>\n",
       "      <td>5</td>\n",
       "    </tr>\n",
       "    <tr>\n",
       "      <th>3</th>\n",
       "      <td>11.2</td>\n",
       "      <td>0.28</td>\n",
       "      <td>0.56</td>\n",
       "      <td>1.9</td>\n",
       "      <td>0.075</td>\n",
       "      <td>17.0</td>\n",
       "      <td>60.0</td>\n",
       "      <td>0.9980</td>\n",
       "      <td>3.16</td>\n",
       "      <td>0.58</td>\n",
       "      <td>9.8</td>\n",
       "      <td>6</td>\n",
       "    </tr>\n",
       "    <tr>\n",
       "      <th>4</th>\n",
       "      <td>7.4</td>\n",
       "      <td>0.70</td>\n",
       "      <td>0.00</td>\n",
       "      <td>1.9</td>\n",
       "      <td>0.076</td>\n",
       "      <td>11.0</td>\n",
       "      <td>34.0</td>\n",
       "      <td>0.9978</td>\n",
       "      <td>3.51</td>\n",
       "      <td>0.56</td>\n",
       "      <td>9.4</td>\n",
       "      <td>5</td>\n",
       "    </tr>\n",
       "  </tbody>\n",
       "</table>\n",
       "</div>"
      ],
      "text/plain": [
       "   fixed acidity  volatile acidity  citric acid  residual sugar  chlorides  \\\n",
       "0            7.4              0.70         0.00             1.9      0.076   \n",
       "1            7.8              0.88         0.00             2.6      0.098   \n",
       "2            7.8              0.76         0.04             2.3      0.092   \n",
       "3           11.2              0.28         0.56             1.9      0.075   \n",
       "4            7.4              0.70         0.00             1.9      0.076   \n",
       "\n",
       "   free sulfur dioxide  total sulfur dioxide  density    pH  sulphates  \\\n",
       "0                 11.0                  34.0   0.9978  3.51       0.56   \n",
       "1                 25.0                  67.0   0.9968  3.20       0.68   \n",
       "2                 15.0                  54.0   0.9970  3.26       0.65   \n",
       "3                 17.0                  60.0   0.9980  3.16       0.58   \n",
       "4                 11.0                  34.0   0.9978  3.51       0.56   \n",
       "\n",
       "   alcohol  quality  \n",
       "0      9.4        5  \n",
       "1      9.8        5  \n",
       "2      9.8        5  \n",
       "3      9.8        6  \n",
       "4      9.4        5  "
      ]
     },
     "execution_count": 3,
     "metadata": {},
     "output_type": "execute_result"
    }
   ],
   "source": [
    "wine.head()"
   ]
  },
  {
   "cell_type": "code",
   "execution_count": 4,
   "metadata": {},
   "outputs": [
    {
     "data": {
      "image/png": "[encoded data removed]",
      "text/plain": [
       "<Figure size 432x288 with 1 Axes>"
      ]
     },
     "metadata": {
      "needs_background": "light"
     },
     "output_type": "display_data"
    }
   ],
   "source": [
    "quality_dist = wine['quality'].value_counts()\n",
    "plt.bar(quality_dist.index, quality_dist)\n",
    "plt.xlabel('quality')\n",
    "plt.ylabel('frequency')\n",
    "plt.show()"
   ]
  },
  {
   "cell_type": "markdown",
   "metadata": {},
   "source": [
    "Quality欄位表示Wine的品質，數值越高代表品越好；目前有{3,4,5,6,7,8}之分，需將分類為「好」、「壞」"
   ]
  },
  {
   "cell_type": "code",
   "execution_count": 5,
   "metadata": {},
   "outputs": [
    {
     "data": {
      "text/plain": [
       "count    1599.000000\n",
       "mean        5.636023\n",
       "std         0.807569\n",
       "min         3.000000\n",
       "25%         5.000000\n",
       "50%         6.000000\n",
       "75%         6.000000\n",
       "max         8.000000\n",
       "Name: quality, dtype: float64"
      ]
     },
     "execution_count": 5,
     "metadata": {},
     "output_type": "execute_result"
    }
   ],
   "source": [
    "wine['quality'].describe()"
   ]
  },
  {
   "cell_type": "code",
   "execution_count": 6,
   "metadata": {},
   "outputs": [
    {
     "data": {
      "image/png": "[encoded data removed]",
      "text/plain": [
       "<Figure size 432x288 with 1 Axes>"
      ]
     },
     "metadata": {
      "needs_background": "light"
     },
     "output_type": "display_data"
    }
   ],
   "source": [
    "values, base = np.histogram(wine['quality'], bins=20)\n",
    "cumulativ = np.cumsum(values/wine.shape[0])\n",
    "plt.plot(base[:-1], cumulativ, c='blue')\n",
    "plt.xlabel('quality')\n",
    "plt.ylabel('frequency')\n",
    "plt.show()"
   ]
  },
  {
   "cell_type": "markdown",
   "metadata": {},
   "source": [
    "Quality中位數為6，平均數為5.6，將紅酒小於等於6之品質歸類為「Poor」，數值為1；大於則歸類為「Good」，數值為2"
   ]
  },
  {
   "cell_type": "code",
   "execution_count": 7,
   "metadata": {},
   "outputs": [],
   "source": [
    "indexspoor = wine.loc[wine['quality'] <= 6].index\n",
    "indexsGood = wine.loc[wine['quality'] > 6].index\n",
    "wine.iloc[indexspoor, wine.columns.get_loc('quality')] = 0\n",
    "wine.iloc[indexsGood, wine.columns.get_loc('quality')] = 1"
   ]
  },
  {
   "cell_type": "code",
   "execution_count": 8,
   "metadata": {},
   "outputs": [
    {
     "data": {
      "text/plain": [
       "0    1382\n",
       "1     217\n",
       "Name: quality, dtype: int64"
      ]
     },
     "execution_count": 8,
     "metadata": {},
     "output_type": "execute_result"
    }
   ],
   "source": [
    "wine['quality'].value_counts()"
   ]
  },
  {
   "cell_type": "markdown",
   "metadata": {},
   "source": [
    "# Decision Tree"
   ]
  },
  {
   "cell_type": "code",
   "execution_count": 58,
   "metadata": {},
   "outputs": [],
   "source": [
    "x = wine.drop('quality',axis=1)\n",
    "y = wine['quality']"
   ]
  },
  {
   "cell_type": "code",
   "execution_count": 59,
   "metadata": {},
   "outputs": [],
   "source": [
    "xTrain, xTest, yTrain, yTest = train_test_split(x, y, test_size = 0.40, random_state = 42)"
   ]
  },
  {
   "cell_type": "code",
   "execution_count": 64,
   "metadata": {},
   "outputs": [
    {
     "data": {
      "text/plain": [
       "DecisionTreeClassifier(max_depth=3)"
      ]
     },
     "execution_count": 64,
     "metadata": {},
     "output_type": "execute_result"
    }
   ],
   "source": [
    "clfTre = tree.DecisionTreeClassifier(max_depth=3)#max_depth=3\n",
    "clfTre.fit(xTrain, yTrain)"
   ]
  },
  {
   "cell_type": "code",
   "execution_count": 65,
   "metadata": {},
   "outputs": [
    {
     "data": {
      "image/svg+xml": [
       "<?xml version=\"1.0\" encoding=\"UTF-8\" standalone=\"no\"?>\n",
       "<!DOCTYPE svg PUBLIC \"-//W3C//DTD SVG 1.1//EN\"\n",
       " \"http://www.w3.org/Graphics/SVG/1.1/DTD/svg11.dtd\">\n",
       "<!-- Generated by graphviz version 2.47.1 (20210417.1919)\n",
       " -->\n",
       "<!-- Title: Tree Pages: 1 -->\n",
       "<svg width=\"1002pt\" height=\"373pt\"\n",
       " viewBox=\"0.00 0.00 1002.00 373.00\" xmlns=\"http://www.w3.org/2000/svg\" xmlns:xlink=\"http://www.w3.org/1999/xlink\">\n",
       "<g id=\"graph0\" class=\"graph\" transform=\"scale(1 1) rotate(0) translate(4 369)\">\n",
       "<title>Tree</title>\n",
       "<polygon fill=\"white\" stroke=\"transparent\" points=\"-4,4 -4,-369 998,-369 998,4 -4,4\"/>\n",
       "<!-- 0 -->\n",
       "<g id=\"node1\" class=\"node\">\n",
       "<title>0</title>\n",
       "<path fill=\"#e99457\" stroke=\"black\" d=\"M537.5,-365C537.5,-365 436.5,-365 436.5,-365 430.5,-365 424.5,-359 424.5,-353 424.5,-353 424.5,-309 424.5,-309 424.5,-303 430.5,-297 436.5,-297 436.5,-297 537.5,-297 537.5,-297 543.5,-297 549.5,-303 549.5,-309 549.5,-309 549.5,-353 549.5,-353 549.5,-359 543.5,-365 537.5,-365\"/>\n",
       "<text text-anchor=\"middle\" x=\"487\" y=\"-349.8\" font-family=\"Helvetica,sans-Serif\" font-size=\"14.00\">alcohol &lt;= 11.55</text>\n",
       "<text text-anchor=\"middle\" x=\"487\" y=\"-334.8\" font-family=\"Helvetica,sans-Serif\" font-size=\"14.00\">gini = 0.231</text>\n",
       "<text text-anchor=\"middle\" x=\"487\" y=\"-319.8\" font-family=\"Helvetica,sans-Serif\" font-size=\"14.00\">samples = 959</text>\n",
       "<text text-anchor=\"middle\" x=\"487\" y=\"-304.8\" font-family=\"Helvetica,sans-Serif\" font-size=\"14.00\">value = [831, 128]</text>\n",
       "</g>\n",
       "<!-- 1 -->\n",
       "<g id=\"node2\" class=\"node\">\n",
       "<title>1</title>\n",
       "<path fill=\"#e78a47\" stroke=\"black\" d=\"M433,-261C433,-261 299,-261 299,-261 293,-261 287,-255 287,-249 287,-249 287,-205 287,-205 287,-199 293,-193 299,-193 299,-193 433,-193 433,-193 439,-193 445,-199 445,-205 445,-205 445,-249 445,-249 445,-255 439,-261 433,-261\"/>\n",
       "<text text-anchor=\"middle\" x=\"366\" y=\"-245.8\" font-family=\"Helvetica,sans-Serif\" font-size=\"14.00\">volatile acidity &lt;= 0.375</text>\n",
       "<text text-anchor=\"middle\" x=\"366\" y=\"-230.8\" font-family=\"Helvetica,sans-Serif\" font-size=\"14.00\">gini = 0.127</text>\n",
       "<text text-anchor=\"middle\" x=\"366\" y=\"-215.8\" font-family=\"Helvetica,sans-Serif\" font-size=\"14.00\">samples = 809</text>\n",
       "<text text-anchor=\"middle\" x=\"366\" y=\"-200.8\" font-family=\"Helvetica,sans-Serif\" font-size=\"14.00\">value = [754, 55]</text>\n",
       "</g>\n",
       "<!-- 0&#45;&gt;1 -->\n",
       "<g id=\"edge1\" class=\"edge\">\n",
       "<title>0&#45;&gt;1</title>\n",
       "<path fill=\"none\" stroke=\"black\" d=\"M447.71,-296.88C436.73,-287.62 424.67,-277.45 413.27,-267.85\"/>\n",
       "<polygon fill=\"black\" stroke=\"black\" points=\"415.4,-265.07 405.5,-261.3 410.89,-270.42 415.4,-265.07\"/>\n",
       "<text text-anchor=\"middle\" x=\"407.62\" y=\"-282.51\" font-family=\"Helvetica,sans-Serif\" font-size=\"14.00\">True</text>\n",
       "</g>\n",
       "<!-- 8 -->\n",
       "<g id=\"node9\" class=\"node\">\n",
       "<title>8</title>\n",
       "<path fill=\"#fef8f5\" stroke=\"black\" d=\"M663,-261C663,-261 555,-261 555,-261 549,-261 543,-255 543,-249 543,-249 543,-205 543,-205 543,-199 549,-193 555,-193 555,-193 663,-193 663,-193 669,-193 675,-199 675,-205 675,-205 675,-249 675,-249 675,-255 669,-261 663,-261\"/>\n",
       "<text text-anchor=\"middle\" x=\"609\" y=\"-245.8\" font-family=\"Helvetica,sans-Serif\" font-size=\"14.00\">sulphates &lt;= 0.615</text>\n",
       "<text text-anchor=\"middle\" x=\"609\" y=\"-230.8\" font-family=\"Helvetica,sans-Serif\" font-size=\"14.00\">gini = 0.5</text>\n",
       "<text text-anchor=\"middle\" x=\"609\" y=\"-215.8\" font-family=\"Helvetica,sans-Serif\" font-size=\"14.00\">samples = 150</text>\n",
       "<text text-anchor=\"middle\" x=\"609\" y=\"-200.8\" font-family=\"Helvetica,sans-Serif\" font-size=\"14.00\">value = [77, 73]</text>\n",
       "</g>\n",
       "<!-- 0&#45;&gt;8 -->\n",
       "<g id=\"edge8\" class=\"edge\">\n",
       "<title>0&#45;&gt;8</title>\n",
       "<path fill=\"none\" stroke=\"black\" d=\"M526.61,-296.88C537.69,-287.62 549.85,-277.45 561.34,-267.85\"/>\n",
       "<polygon fill=\"black\" stroke=\"black\" points=\"563.74,-270.4 569.17,-261.3 559.25,-265.03 563.74,-270.4\"/>\n",
       "<text text-anchor=\"middle\" x=\"566.95\" y=\"-282.5\" font-family=\"Helvetica,sans-Serif\" font-size=\"14.00\">False</text>\n",
       "</g>\n",
       "<!-- 2 -->\n",
       "<g id=\"node3\" class=\"node\">\n",
       "<title>2</title>\n",
       "<path fill=\"#eca471\" stroke=\"black\" d=\"M231,-157C231,-157 127,-157 127,-157 121,-157 115,-151 115,-145 115,-145 115,-101 115,-101 115,-95 121,-89 127,-89 127,-89 231,-89 231,-89 237,-89 243,-95 243,-101 243,-101 243,-145 243,-145 243,-151 237,-157 231,-157\"/>\n",
       "<text text-anchor=\"middle\" x=\"179\" y=\"-141.8\" font-family=\"Helvetica,sans-Serif\" font-size=\"14.00\">chlorides &lt;= 0.061</text>\n",
       "<text text-anchor=\"middle\" x=\"179\" y=\"-126.8\" font-family=\"Helvetica,sans-Serif\" font-size=\"14.00\">gini = 0.342</text>\n",
       "<text text-anchor=\"middle\" x=\"179\" y=\"-111.8\" font-family=\"Helvetica,sans-Serif\" font-size=\"14.00\">samples = 137</text>\n",
       "<text text-anchor=\"middle\" x=\"179\" y=\"-96.8\" font-family=\"Helvetica,sans-Serif\" font-size=\"14.00\">value = [107, 30]</text>\n",
       "</g>\n",
       "<!-- 1&#45;&gt;2 -->\n",
       "<g id=\"edge2\" class=\"edge\">\n",
       "<title>1&#45;&gt;2</title>\n",
       "<path fill=\"none\" stroke=\"black\" d=\"M305.29,-192.88C287.23,-183.04 267.31,-172.17 248.73,-162.03\"/>\n",
       "<polygon fill=\"black\" stroke=\"black\" points=\"250.18,-158.84 239.73,-157.12 246.83,-164.99 250.18,-158.84\"/>\n",
       "</g>\n",
       "<!-- 5 -->\n",
       "<g id=\"node6\" class=\"node\">\n",
       "<title>5</title>\n",
       "<path fill=\"#e68641\" stroke=\"black\" d=\"M420,-157C420,-157 312,-157 312,-157 306,-157 300,-151 300,-145 300,-145 300,-101 300,-101 300,-95 306,-89 312,-89 312,-89 420,-89 420,-89 426,-89 432,-95 432,-101 432,-101 432,-145 432,-145 432,-151 426,-157 420,-157\"/>\n",
       "<text text-anchor=\"middle\" x=\"366\" y=\"-141.8\" font-family=\"Helvetica,sans-Serif\" font-size=\"14.00\">sulphates &lt;= 0.665</text>\n",
       "<text text-anchor=\"middle\" x=\"366\" y=\"-126.8\" font-family=\"Helvetica,sans-Serif\" font-size=\"14.00\">gini = 0.072</text>\n",
       "<text text-anchor=\"middle\" x=\"366\" y=\"-111.8\" font-family=\"Helvetica,sans-Serif\" font-size=\"14.00\">samples = 672</text>\n",
       "<text text-anchor=\"middle\" x=\"366\" y=\"-96.8\" font-family=\"Helvetica,sans-Serif\" font-size=\"14.00\">value = [647, 25]</text>\n",
       "</g>\n",
       "<!-- 1&#45;&gt;5 -->\n",
       "<g id=\"edge5\" class=\"edge\">\n",
       "<title>1&#45;&gt;5</title>\n",
       "<path fill=\"none\" stroke=\"black\" d=\"M366,-192.88C366,-184.78 366,-175.98 366,-167.47\"/>\n",
       "<polygon fill=\"black\" stroke=\"black\" points=\"369.5,-167.3 366,-157.3 362.5,-167.3 369.5,-167.3\"/>\n",
       "</g>\n",
       "<!-- 3 -->\n",
       "<g id=\"node4\" class=\"node\">\n",
       "<title>3</title>\n",
       "<path fill=\"#b0d8f5\" stroke=\"black\" d=\"M90,-53C90,-53 12,-53 12,-53 6,-53 0,-47 0,-41 0,-41 0,-12 0,-12 0,-6 6,0 12,0 12,0 90,0 90,0 96,0 102,-6 102,-12 102,-12 102,-41 102,-41 102,-47 96,-53 90,-53\"/>\n",
       "<text text-anchor=\"middle\" x=\"51\" y=\"-37.8\" font-family=\"Helvetica,sans-Serif\" font-size=\"14.00\">gini = 0.469</text>\n",
       "<text text-anchor=\"middle\" x=\"51\" y=\"-22.8\" font-family=\"Helvetica,sans-Serif\" font-size=\"14.00\">samples = 16</text>\n",
       "<text text-anchor=\"middle\" x=\"51\" y=\"-7.8\" font-family=\"Helvetica,sans-Serif\" font-size=\"14.00\">value = [6, 10]</text>\n",
       "</g>\n",
       "<!-- 2&#45;&gt;3 -->\n",
       "<g id=\"edge3\" class=\"edge\">\n",
       "<title>2&#45;&gt;3</title>\n",
       "<path fill=\"none\" stroke=\"black\" d=\"M134.23,-88.95C121.22,-79.34 107.04,-68.87 94.13,-59.34\"/>\n",
       "<polygon fill=\"black\" stroke=\"black\" points=\"95.98,-56.36 85.86,-53.24 91.83,-61.99 95.98,-56.36\"/>\n",
       "</g>\n",
       "<!-- 4 -->\n",
       "<g id=\"node5\" class=\"node\">\n",
       "<title>4</title>\n",
       "<path fill=\"#ea9a60\" stroke=\"black\" d=\"M225.5,-53C225.5,-53 132.5,-53 132.5,-53 126.5,-53 120.5,-47 120.5,-41 120.5,-41 120.5,-12 120.5,-12 120.5,-6 126.5,0 132.5,0 132.5,0 225.5,0 225.5,0 231.5,0 237.5,-6 237.5,-12 237.5,-12 237.5,-41 237.5,-41 237.5,-47 231.5,-53 225.5,-53\"/>\n",
       "<text text-anchor=\"middle\" x=\"179\" y=\"-37.8\" font-family=\"Helvetica,sans-Serif\" font-size=\"14.00\">gini = 0.276</text>\n",
       "<text text-anchor=\"middle\" x=\"179\" y=\"-22.8\" font-family=\"Helvetica,sans-Serif\" font-size=\"14.00\">samples = 121</text>\n",
       "<text text-anchor=\"middle\" x=\"179\" y=\"-7.8\" font-family=\"Helvetica,sans-Serif\" font-size=\"14.00\">value = [101, 20]</text>\n",
       "</g>\n",
       "<!-- 2&#45;&gt;4 -->\n",
       "<g id=\"edge4\" class=\"edge\">\n",
       "<title>2&#45;&gt;4</title>\n",
       "<path fill=\"none\" stroke=\"black\" d=\"M179,-88.95C179,-80.72 179,-71.85 179,-63.48\"/>\n",
       "<polygon fill=\"black\" stroke=\"black\" points=\"182.5,-63.24 179,-53.24 175.5,-63.24 182.5,-63.24\"/>\n",
       "</g>\n",
       "<!-- 6 -->\n",
       "<g id=\"node7\" class=\"node\">\n",
       "<title>6</title>\n",
       "<path fill=\"#e5833c\" stroke=\"black\" d=\"M354,-53C354,-53 268,-53 268,-53 262,-53 256,-47 256,-41 256,-41 256,-12 256,-12 256,-6 262,0 268,0 268,0 354,0 354,0 360,0 366,-6 366,-12 366,-12 366,-41 366,-41 366,-47 360,-53 354,-53\"/>\n",
       "<text text-anchor=\"middle\" x=\"311\" y=\"-37.8\" font-family=\"Helvetica,sans-Serif\" font-size=\"14.00\">gini = 0.033</text>\n",
       "<text text-anchor=\"middle\" x=\"311\" y=\"-22.8\" font-family=\"Helvetica,sans-Serif\" font-size=\"14.00\">samples = 475</text>\n",
       "<text text-anchor=\"middle\" x=\"311\" y=\"-7.8\" font-family=\"Helvetica,sans-Serif\" font-size=\"14.00\">value = [467, 8]</text>\n",
       "</g>\n",
       "<!-- 5&#45;&gt;6 -->\n",
       "<g id=\"edge6\" class=\"edge\">\n",
       "<title>5&#45;&gt;6</title>\n",
       "<path fill=\"none\" stroke=\"black\" d=\"M346.76,-88.95C341.71,-80.26 336.24,-70.86 331.13,-62.09\"/>\n",
       "<polygon fill=\"black\" stroke=\"black\" points=\"334.03,-60.12 325.98,-53.24 327.98,-63.64 334.03,-60.12\"/>\n",
       "</g>\n",
       "<!-- 7 -->\n",
       "<g id=\"node8\" class=\"node\">\n",
       "<title>7</title>\n",
       "<path fill=\"#e78d4c\" stroke=\"black\" d=\"M489.5,-53C489.5,-53 396.5,-53 396.5,-53 390.5,-53 384.5,-47 384.5,-41 384.5,-41 384.5,-12 384.5,-12 384.5,-6 390.5,0 396.5,0 396.5,0 489.5,0 489.5,0 495.5,0 501.5,-6 501.5,-12 501.5,-12 501.5,-41 501.5,-41 501.5,-47 495.5,-53 489.5,-53\"/>\n",
       "<text text-anchor=\"middle\" x=\"443\" y=\"-37.8\" font-family=\"Helvetica,sans-Serif\" font-size=\"14.00\">gini = 0.158</text>\n",
       "<text text-anchor=\"middle\" x=\"443\" y=\"-22.8\" font-family=\"Helvetica,sans-Serif\" font-size=\"14.00\">samples = 197</text>\n",
       "<text text-anchor=\"middle\" x=\"443\" y=\"-7.8\" font-family=\"Helvetica,sans-Serif\" font-size=\"14.00\">value = [180, 17]</text>\n",
       "</g>\n",
       "<!-- 5&#45;&gt;7 -->\n",
       "<g id=\"edge7\" class=\"edge\">\n",
       "<title>5&#45;&gt;7</title>\n",
       "<path fill=\"none\" stroke=\"black\" d=\"M392.93,-88.95C400.24,-79.98 408.15,-70.27 415.49,-61.26\"/>\n",
       "<polygon fill=\"black\" stroke=\"black\" points=\"418.43,-63.2 422.03,-53.24 413,-58.78 418.43,-63.2\"/>\n",
       "</g>\n",
       "<!-- 9 -->\n",
       "<g id=\"node10\" class=\"node\">\n",
       "<title>9</title>\n",
       "<path fill=\"#eca36e\" stroke=\"black\" d=\"M652,-157C652,-157 566,-157 566,-157 560,-157 554,-151 554,-145 554,-145 554,-101 554,-101 554,-95 560,-89 566,-89 566,-89 652,-89 652,-89 658,-89 664,-95 664,-101 664,-101 664,-145 664,-145 664,-151 658,-157 652,-157\"/>\n",
       "<text text-anchor=\"middle\" x=\"609\" y=\"-141.8\" font-family=\"Helvetica,sans-Serif\" font-size=\"14.00\">pH &lt;= 3.27</text>\n",
       "<text text-anchor=\"middle\" x=\"609\" y=\"-126.8\" font-family=\"Helvetica,sans-Serif\" font-size=\"14.00\">gini = 0.334</text>\n",
       "<text text-anchor=\"middle\" x=\"609\" y=\"-111.8\" font-family=\"Helvetica,sans-Serif\" font-size=\"14.00\">samples = 52</text>\n",
       "<text text-anchor=\"middle\" x=\"609\" y=\"-96.8\" font-family=\"Helvetica,sans-Serif\" font-size=\"14.00\">value = [41, 11]</text>\n",
       "</g>\n",
       "<!-- 8&#45;&gt;9 -->\n",
       "<g id=\"edge9\" class=\"edge\">\n",
       "<title>8&#45;&gt;9</title>\n",
       "<path fill=\"none\" stroke=\"black\" d=\"M609,-192.88C609,-184.78 609,-175.98 609,-167.47\"/>\n",
       "<polygon fill=\"black\" stroke=\"black\" points=\"612.5,-167.3 609,-157.3 605.5,-167.3 612.5,-167.3\"/>\n",
       "</g>\n",
       "<!-- 12 -->\n",
       "<g id=\"node13\" class=\"node\">\n",
       "<title>12</title>\n",
       "<path fill=\"#acd6f4\" stroke=\"black\" d=\"M887,-157C887,-157 735,-157 735,-157 729,-157 723,-151 723,-145 723,-145 723,-101 723,-101 723,-95 729,-89 735,-89 735,-89 887,-89 887,-89 893,-89 899,-95 899,-101 899,-101 899,-145 899,-145 899,-151 893,-157 887,-157\"/>\n",
       "<text text-anchor=\"middle\" x=\"811\" y=\"-141.8\" font-family=\"Helvetica,sans-Serif\" font-size=\"14.00\">total sulfur dioxide &lt;= 43.5</text>\n",
       "<text text-anchor=\"middle\" x=\"811\" y=\"-126.8\" font-family=\"Helvetica,sans-Serif\" font-size=\"14.00\">gini = 0.465</text>\n",
       "<text text-anchor=\"middle\" x=\"811\" y=\"-111.8\" font-family=\"Helvetica,sans-Serif\" font-size=\"14.00\">samples = 98</text>\n",
       "<text text-anchor=\"middle\" x=\"811\" y=\"-96.8\" font-family=\"Helvetica,sans-Serif\" font-size=\"14.00\">value = [36, 62]</text>\n",
       "</g>\n",
       "<!-- 8&#45;&gt;12 -->\n",
       "<g id=\"edge12\" class=\"edge\">\n",
       "<title>8&#45;&gt;12</title>\n",
       "<path fill=\"none\" stroke=\"black\" d=\"M674.58,-192.88C694.26,-182.95 716,-171.97 736.23,-161.76\"/>\n",
       "<polygon fill=\"black\" stroke=\"black\" points=\"738.05,-164.76 745.4,-157.12 734.9,-158.51 738.05,-164.76\"/>\n",
       "</g>\n",
       "<!-- 10 -->\n",
       "<g id=\"node11\" class=\"node\">\n",
       "<title>10</title>\n",
       "<path fill=\"#ffffff\" stroke=\"black\" d=\"M606,-53C606,-53 532,-53 532,-53 526,-53 520,-47 520,-41 520,-41 520,-12 520,-12 520,-6 526,0 532,0 532,0 606,0 606,0 612,0 618,-6 618,-12 618,-12 618,-41 618,-41 618,-47 612,-53 606,-53\"/>\n",
       "<text text-anchor=\"middle\" x=\"569\" y=\"-37.8\" font-family=\"Helvetica,sans-Serif\" font-size=\"14.00\">gini = 0.5</text>\n",
       "<text text-anchor=\"middle\" x=\"569\" y=\"-22.8\" font-family=\"Helvetica,sans-Serif\" font-size=\"14.00\">samples = 16</text>\n",
       "<text text-anchor=\"middle\" x=\"569\" y=\"-7.8\" font-family=\"Helvetica,sans-Serif\" font-size=\"14.00\">value = [8, 8]</text>\n",
       "</g>\n",
       "<!-- 9&#45;&gt;10 -->\n",
       "<g id=\"edge10\" class=\"edge\">\n",
       "<title>9&#45;&gt;10</title>\n",
       "<path fill=\"none\" stroke=\"black\" d=\"M595.01,-88.95C591.41,-80.44 587.52,-71.26 583.88,-62.65\"/>\n",
       "<polygon fill=\"black\" stroke=\"black\" points=\"587.02,-61.08 579.89,-53.24 580.57,-63.81 587.02,-61.08\"/>\n",
       "</g>\n",
       "<!-- 11 -->\n",
       "<g id=\"node12\" class=\"node\">\n",
       "<title>11</title>\n",
       "<path fill=\"#e78c4b\" stroke=\"black\" d=\"M726,-53C726,-53 648,-53 648,-53 642,-53 636,-47 636,-41 636,-41 636,-12 636,-12 636,-6 642,0 648,0 648,0 726,0 726,0 732,0 738,-6 738,-12 738,-12 738,-41 738,-41 738,-47 732,-53 726,-53\"/>\n",
       "<text text-anchor=\"middle\" x=\"687\" y=\"-37.8\" font-family=\"Helvetica,sans-Serif\" font-size=\"14.00\">gini = 0.153</text>\n",
       "<text text-anchor=\"middle\" x=\"687\" y=\"-22.8\" font-family=\"Helvetica,sans-Serif\" font-size=\"14.00\">samples = 36</text>\n",
       "<text text-anchor=\"middle\" x=\"687\" y=\"-7.8\" font-family=\"Helvetica,sans-Serif\" font-size=\"14.00\">value = [33, 3]</text>\n",
       "</g>\n",
       "<!-- 9&#45;&gt;11 -->\n",
       "<g id=\"edge11\" class=\"edge\">\n",
       "<title>9&#45;&gt;11</title>\n",
       "<path fill=\"none\" stroke=\"black\" d=\"M636.28,-88.95C643.76,-79.89 651.86,-70.07 659.36,-60.99\"/>\n",
       "<polygon fill=\"black\" stroke=\"black\" points=\"662.09,-63.18 665.76,-53.24 656.69,-58.72 662.09,-63.18\"/>\n",
       "</g>\n",
       "<!-- 13 -->\n",
       "<g id=\"node14\" class=\"node\">\n",
       "<title>13</title>\n",
       "<path fill=\"#7cbeee\" stroke=\"black\" d=\"M854,-53C854,-53 768,-53 768,-53 762,-53 756,-47 756,-41 756,-41 756,-12 756,-12 756,-6 762,0 768,0 768,0 854,0 854,0 860,0 866,-6 866,-12 866,-12 866,-41 866,-41 866,-47 860,-53 854,-53\"/>\n",
       "<text text-anchor=\"middle\" x=\"811\" y=\"-37.8\" font-family=\"Helvetica,sans-Serif\" font-size=\"14.00\">gini = 0.379</text>\n",
       "<text text-anchor=\"middle\" x=\"811\" y=\"-22.8\" font-family=\"Helvetica,sans-Serif\" font-size=\"14.00\">samples = 67</text>\n",
       "<text text-anchor=\"middle\" x=\"811\" y=\"-7.8\" font-family=\"Helvetica,sans-Serif\" font-size=\"14.00\">value = [17, 50]</text>\n",
       "</g>\n",
       "<!-- 12&#45;&gt;13 -->\n",
       "<g id=\"edge13\" class=\"edge\">\n",
       "<title>12&#45;&gt;13</title>\n",
       "<path fill=\"none\" stroke=\"black\" d=\"M811,-88.95C811,-80.72 811,-71.85 811,-63.48\"/>\n",
       "<polygon fill=\"black\" stroke=\"black\" points=\"814.5,-63.24 811,-53.24 807.5,-63.24 814.5,-63.24\"/>\n",
       "</g>\n",
       "<!-- 14 -->\n",
       "<g id=\"node15\" class=\"node\">\n",
       "<title>14</title>\n",
       "<path fill=\"#f5d1b6\" stroke=\"black\" d=\"M982,-53C982,-53 896,-53 896,-53 890,-53 884,-47 884,-41 884,-41 884,-12 884,-12 884,-6 890,0 896,0 896,0 982,0 982,0 988,0 994,-6 994,-12 994,-12 994,-41 994,-41 994,-47 988,-53 982,-53\"/>\n",
       "<text text-anchor=\"middle\" x=\"939\" y=\"-37.8\" font-family=\"Helvetica,sans-Serif\" font-size=\"14.00\">gini = 0.475</text>\n",
       "<text text-anchor=\"middle\" x=\"939\" y=\"-22.8\" font-family=\"Helvetica,sans-Serif\" font-size=\"14.00\">samples = 31</text>\n",
       "<text text-anchor=\"middle\" x=\"939\" y=\"-7.8\" font-family=\"Helvetica,sans-Serif\" font-size=\"14.00\">value = [19, 12]</text>\n",
       "</g>\n",
       "<!-- 12&#45;&gt;14 -->\n",
       "<g id=\"edge14\" class=\"edge\">\n",
       "<title>12&#45;&gt;14</title>\n",
       "<path fill=\"none\" stroke=\"black\" d=\"M855.77,-88.95C868.78,-79.34 882.96,-68.87 895.87,-59.34\"/>\n",
       "<polygon fill=\"black\" stroke=\"black\" points=\"898.17,-61.99 904.14,-53.24 894.02,-56.36 898.17,-61.99\"/>\n",
       "</g>\n",
       "</g>\n",
       "</svg>\n"
      ],
      "text/plain": [
       "<graphviz.files.Source at 0x121eb86d0>"
      ]
     },
     "execution_count": 65,
     "metadata": {},
     "output_type": "execute_result"
    }
   ],
   "source": [
    "#Visualizing the decision tree\n",
    "#需先安裝Graphviz\n",
    "dot_data = tree.export_graphviz(clfTre, out_file=None,feature_names=list(x.columns.values), filled=True, rounded=True)\n",
    "valgTre = graphviz.Source(dot_data) \n",
    "valgTre\n",
    "#Alcohol= 酒精\n",
    "#Volatile Acidity= 揮發性酸度\n",
    "#Sulphates= 硫酸鹽"
   ]
  },
  {
   "cell_type": "code",
   "execution_count": 66,
   "metadata": {},
   "outputs": [
    {
     "name": "stdout",
     "output_type": "stream",
     "text": [
      "訓練集:  0.9051094890510949\n",
      "測試集:  0.8484375\n"
     ]
    }
   ],
   "source": [
    " # 預測成功的比例\n",
    "print('訓練集: ',clfTre.score(xTrain,yTrain))\n",
    "print('測試集: ',clfTre.score(xTest,yTest))"
   ]
  },
  {
   "cell_type": "markdown",
   "metadata": {},
   "source": [
    "# Random Forest"
   ]
  },
  {
   "cell_type": "code",
   "execution_count": 50,
   "metadata": {},
   "outputs": [],
   "source": [
    "# 建立RandomForest模型\n",
    "rf = RandomForestClassifier(n_estimators=100,oob_score=True ,random_state=0)\n",
    "# 使用訓練資料訓練模型\n",
    "rf.fit(xTrain, yTrain)\n",
    "# 使用訓練資料預測分類\n",
    "predicted = rf.predict(xTrain)"
   ]
  },
  {
   "cell_type": "code",
   "execution_count": 54,
   "metadata": {},
   "outputs": [
    {
     "name": "stdout",
     "output_type": "stream",
     "text": [
      "訓練集:  1.0\n",
      "測試集:  0.8859375\n"
     ]
    }
   ],
   "source": [
    " # 預測成功的比例\n",
    "print('訓練集: ',rf.score(xTrain,yTrain))\n",
    "print('測試集: ',rf.score(xTest,yTest))"
   ]
  },
  {
   "cell_type": "code",
   "execution_count": 53,
   "metadata": {},
   "outputs": [
    {
     "name": "stdout",
     "output_type": "stream",
     "text": [
      "特徵重要程度:  [0.06577898 0.11277    0.09081331 0.05677879 0.07689973 0.05710678\n",
      " 0.07957291 0.09319467 0.06227166 0.11417225 0.19064092]\n"
     ]
    }
   ],
   "source": [
    "print('特徵重要程度: ',rf.feature_importances_)"
   ]
  }
 ],
 "metadata": {
  "kernelspec": {
   "display_name": "Python 3",
   "language": "python",
   "name": "python3"
  },
  "language_info": {
   "codemirror_mode": {
    "name": "ipython",
    "version": 3
   },
   "file_extension": ".py",
   "mimetype": "text/x-python",
   "name": "python",
   "nbconvert_exporter": "python",
   "pygments_lexer": "ipython3",
   "version": "3.8.5"
  }
 },
 "nbformat": 4,
 "nbformat_minor": 4
}
